{
  "nbformat": 4,
  "nbformat_minor": 0,
  "metadata": {
    "colab": {
      "provenance": []
    },
    "kernelspec": {
      "name": "python3",
      "display_name": "Python 3"
    },
    "language_info": {
      "name": "python"
    }
  },
  "cells": [
    {
      "cell_type": "markdown",
      "source": [
        "Hand Written Digit Prediction- Classification Analysis"
      ],
      "metadata": {
        "id": "2EpymShgOY6b"
      }
    },
    {
      "cell_type": "markdown",
      "source": [
        "Import Library"
      ],
      "metadata": {
        "id": "glJ0PLmyPIsA"
      }
    },
    {
      "cell_type": "code",
      "source": [
        "import pandas as pd"
      ],
      "metadata": {
        "id": "7uYlYYJ6Pb97"
      },
      "execution_count": null,
      "outputs": []
    },
    {
      "cell_type": "code",
      "source": [
        "import numpy as np"
      ],
      "metadata": {
        "id": "a4QwYyymPi-8"
      },
      "execution_count": null,
      "outputs": []
    },
    {
      "cell_type": "code",
      "source": [
        "import matplotlib.pyplot as plt\n"
      ],
      "metadata": {
        "id": "bpVRce4dP3_e"
      },
      "execution_count": null,
      "outputs": []
    },
    {
      "cell_type": "markdown",
      "source": [
        "Import Data"
      ],
      "metadata": {
        "id": "YAnH0nevQDGr"
      }
    },
    {
      "cell_type": "code",
      "source": [
        "from sklearn.datasets import load_digits"
      ],
      "metadata": {
        "id": "0Gct7BD5QF-9"
      },
      "execution_count": null,
      "outputs": []
    },
    {
      "cell_type": "code",
      "source": [
        "df = load_digits()"
      ],
      "metadata": {
        "id": "oDucMyhAQYnU"
      },
      "execution_count": null,
      "outputs": []
    },
    {
      "cell_type": "code",
      "source": [
        "_, axes = plt.subplots(nrows=1, ncols=4, figsize=(10, 3))\n",
        "for ax, image, label in zip(axes, df .images, df.target):\n",
        "    ax.set_axis_off()\n",
        "    ax.imshow(image, cmap=plt.cm.gray_r,interpolation=\"nearest\")\n",
        "    ax.set_title(\"Trainaing; %i\" % label)"
      ],
      "metadata": {
        "colab": {
          "base_uri": "https://localhost:8080/",
          "height": 187
        },
        "id": "VwGmbrPFQvu9",
        "outputId": "173b2141-142c-4ca6-da44-a93c64d5dbb0"
      },
      "execution_count": null,
      "outputs": [
        {
          "output_type": "display_data",
          "data": {
            "text/plain": [
              "<Figure size 1000x300 with 4 Axes>"
            ],
            "image/png": "[encoded data removed]"
          },
          "metadata": {}
        }
      ]
    },
    {
      "cell_type": "markdown",
      "source": [
        "Data Preprocessing\n",
        "\n",
        "Flatten Image\n",
        "\n",
        "![Untitled.png](data:image/png;base64,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)"
      ],
      "metadata": {
        "id": "T1DFfbDETIfz"
      }
    },
    {
      "cell_type": "code",
      "source": [
        "df.images .shape"
      ],
      "metadata": {
        "colab": {
          "base_uri": "https://localhost:8080/"
        },
        "id": "xv_l_aZiYxwI",
        "outputId": "b56a69af-831d-4aaf-e767-b68294770abf"
      },
      "execution_count": null,
      "outputs": [
        {
          "output_type": "execute_result",
          "data": {
            "text/plain": [
              "(1797, 8, 8)"
            ]
          },
          "metadata": {},
          "execution_count": 12
        }
      ]
    },
    {
      "cell_type": "code",
      "source": [
        "df.images[0]"
      ],
      "metadata": {
        "colab": {
          "base_uri": "https://localhost:8080/"
        },
        "id": "7sHOCc9_Y9-D",
        "outputId": "3e67d3d0-bab8-489b-bd52-ecbd862ed4f8"
      },
      "execution_count": null,
      "outputs": [
        {
          "output_type": "execute_result",
          "data": {
            "text/plain": [
              "array([[ 0.,  0.,  5., 13.,  9.,  1.,  0.,  0.],\n",
              "       [ 0.,  0., 13., 15., 10., 15.,  5.,  0.],\n",
              "       [ 0.,  3., 15.,  2.,  0., 11.,  8.,  0.],\n",
              "       [ 0.,  4., 12.,  0.,  0.,  8.,  8.,  0.],\n",
              "       [ 0.,  5.,  8.,  0.,  0.,  9.,  8.,  0.],\n",
              "       [ 0.,  4., 11.,  0.,  1., 12.,  7.,  0.],\n",
              "       [ 0.,  2., 14.,  5., 10., 12.,  0.,  0.],\n",
              "       [ 0.,  0.,  6., 13., 10.,  0.,  0.,  0.]])"
            ]
          },
          "metadata": {},
          "execution_count": 13
        }
      ]
    },
    {
      "cell_type": "code",
      "source": [
        "df.images[0].shape"
      ],
      "metadata": {
        "colab": {
          "base_uri": "https://localhost:8080/"
        },
        "id": "_c5as_abZFFG",
        "outputId": "2c3b4454-c9a1-45cb-e3b4-b5002be48077"
      },
      "execution_count": null,
      "outputs": [
        {
          "output_type": "execute_result",
          "data": {
            "text/plain": [
              "(8, 8)"
            ]
          },
          "metadata": {},
          "execution_count": 14
        }
      ]
    },
    {
      "cell_type": "code",
      "source": [
        "len(df.images)"
      ],
      "metadata": {
        "colab": {
          "base_uri": "https://localhost:8080/"
        },
        "id": "x7mL5tt2ZOvm",
        "outputId": "bb49a22e-56d3-467b-b035-7ea0eb0dc1c0"
      },
      "execution_count": null,
      "outputs": [
        {
          "output_type": "execute_result",
          "data": {
            "text/plain": [
              "1797"
            ]
          },
          "metadata": {},
          "execution_count": 16
        }
      ]
    },
    {
      "cell_type": "code",
      "source": [
        "n_samples = len(df.images)\n",
        "data = df.images.reshape((n_samples, -1))"
      ],
      "metadata": {
        "id": "epPrwW88Zkgg"
      },
      "execution_count": null,
      "outputs": []
    },
    {
      "cell_type": "code",
      "source": [
        "data[0]"
      ],
      "metadata": {
        "colab": {
          "base_uri": "https://localhost:8080/"
        },
        "id": "dJwLTm-NaF3B",
        "outputId": "b0ad4cad-5681-4f44-967f-63d924b4c663"
      },
      "execution_count": null,
      "outputs": [
        {
          "output_type": "execute_result",
          "data": {
            "text/plain": [
              "array([ 0.,  0.,  5., 13.,  9.,  1.,  0.,  0.,  0.,  0., 13., 15., 10.,\n",
              "       15.,  5.,  0.,  0.,  3., 15.,  2.,  0., 11.,  8.,  0.,  0.,  4.,\n",
              "       12.,  0.,  0.,  8.,  8.,  0.,  0.,  5.,  8.,  0.,  0.,  9.,  8.,\n",
              "        0.,  0.,  4., 11.,  0.,  1., 12.,  7.,  0.,  0.,  2., 14.,  5.,\n",
              "       10., 12.,  0.,  0.,  0.,  0.,  6., 13., 10.,  0.,  0.,  0.])"
            ]
          },
          "metadata": {},
          "execution_count": 19
        }
      ]
    },
    {
      "cell_type": "code",
      "source": [
        "data[0].shape"
      ],
      "metadata": {
        "colab": {
          "base_uri": "https://localhost:8080/"
        },
        "id": "eRsMGT7yaLE_",
        "outputId": "2d5fab14-7b9c-43b4-93e1-8c993a7b3422"
      },
      "execution_count": null,
      "outputs": [
        {
          "output_type": "execute_result",
          "data": {
            "text/plain": [
              "(64,)"
            ]
          },
          "metadata": {},
          "execution_count": 20
        }
      ]
    },
    {
      "cell_type": "code",
      "source": [
        "data.shape"
      ],
      "metadata": {
        "colab": {
          "base_uri": "https://localhost:8080/"
        },
        "id": "5w_OS_n6aWSX",
        "outputId": "267968f2-0dab-4524-d997-5f20b0a1cb29"
      },
      "execution_count": null,
      "outputs": [
        {
          "output_type": "execute_result",
          "data": {
            "text/plain": [
              "(1797, 64)"
            ]
          },
          "metadata": {},
          "execution_count": 21
        }
      ]
    },
    {
      "cell_type": "markdown",
      "source": [
        "Scaling Image Data"
      ],
      "metadata": {
        "id": "ygXu5m6Faas4"
      }
    },
    {
      "cell_type": "code",
      "source": [
        "data.min()"
      ],
      "metadata": {
        "colab": {
          "base_uri": "https://localhost:8080/"
        },
        "id": "DvEtScMCafQv",
        "outputId": "d5b5fb85-ca24-4760-95c9-47618795b467"
      },
      "execution_count": null,
      "outputs": [
        {
          "output_type": "execute_result",
          "data": {
            "text/plain": [
              "0.0"
            ]
          },
          "metadata": {},
          "execution_count": 22
        }
      ]
    },
    {
      "cell_type": "code",
      "source": [
        "data.max()"
      ],
      "metadata": {
        "colab": {
          "base_uri": "https://localhost:8080/"
        },
        "id": "qXR1xBfSakhG",
        "outputId": "e30a7d01-7807-426f-e64a-6a58ff1afece"
      },
      "execution_count": null,
      "outputs": [
        {
          "output_type": "execute_result",
          "data": {
            "text/plain": [
              "16.0"
            ]
          },
          "metadata": {},
          "execution_count": 23
        }
      ]
    },
    {
      "cell_type": "code",
      "source": [
        "data=data/16"
      ],
      "metadata": {
        "id": "ceW_P8J4anET"
      },
      "execution_count": null,
      "outputs": []
    },
    {
      "cell_type": "code",
      "source": [
        "data.min()"
      ],
      "metadata": {
        "colab": {
          "base_uri": "https://localhost:8080/"
        },
        "id": "dokj7nGrasKK",
        "outputId": "0be2bb8f-154f-498f-b59f-de6efc9af460"
      },
      "execution_count": null,
      "outputs": [
        {
          "output_type": "execute_result",
          "data": {
            "text/plain": [
              "0.0"
            ]
          },
          "metadata": {},
          "execution_count": 25
        }
      ]
    },
    {
      "cell_type": "code",
      "source": [
        "data.max()"
      ],
      "metadata": {
        "colab": {
          "base_uri": "https://localhost:8080/"
        },
        "id": "7X2PO_oNa0vp",
        "outputId": "1897cd53-b67a-4a41-e454-6cf787dbdafe"
      },
      "execution_count": null,
      "outputs": [
        {
          "output_type": "execute_result",
          "data": {
            "text/plain": [
              "1.0"
            ]
          },
          "metadata": {},
          "execution_count": 26
        }
      ]
    },
    {
      "cell_type": "code",
      "source": [
        "data[0]"
      ],
      "metadata": {
        "colab": {
          "base_uri": "https://localhost:8080/"
        },
        "id": "BtMlyCgla3Od",
        "outputId": "78f6fec0-6ac1-469b-87b5-3407916a7832"
      },
      "execution_count": null,
      "outputs": [
        {
          "output_type": "execute_result",
          "data": {
            "text/plain": [
              "array([0.    , 0.    , 0.3125, 0.8125, 0.5625, 0.0625, 0.    , 0.    ,\n",
              "       0.    , 0.    , 0.8125, 0.9375, 0.625 , 0.9375, 0.3125, 0.    ,\n",
              "       0.    , 0.1875, 0.9375, 0.125 , 0.    , 0.6875, 0.5   , 0.    ,\n",
              "       0.    , 0.25  , 0.75  , 0.    , 0.    , 0.5   , 0.5   , 0.    ,\n",
              "       0.    , 0.3125, 0.5   , 0.    , 0.    , 0.5625, 0.5   , 0.    ,\n",
              "       0.    , 0.25  , 0.6875, 0.    , 0.0625, 0.75  , 0.4375, 0.    ,\n",
              "       0.    , 0.125 , 0.875 , 0.3125, 0.625 , 0.75  , 0.    , 0.    ,\n",
              "       0.    , 0.    , 0.375 , 0.8125, 0.625 , 0.    , 0.    , 0.    ])"
            ]
          },
          "metadata": {},
          "execution_count": 27
        }
      ]
    },
    {
      "cell_type": "markdown",
      "source": [
        "Train Test Split Data"
      ],
      "metadata": {
        "id": "Ecb-9mj4bKw0"
      }
    },
    {
      "cell_type": "code",
      "source": [
        "from sklearn.model_selection import train_test_split"
      ],
      "metadata": {
        "id": "FOvqCv17bQKr"
      },
      "execution_count": null,
      "outputs": []
    },
    {
      "cell_type": "code",
      "source": [
        "x_train, x_test, y_train, y_test = train_test_split(data, df.target, test_size=0.3)"
      ],
      "metadata": {
        "id": "MQwDTRlFbeMW"
      },
      "execution_count": null,
      "outputs": []
    },
    {
      "cell_type": "code",
      "source": [
        "x_train.shape, x_test.shape, y_train.shape, y_test.shape\n"
      ],
      "metadata": {
        "colab": {
          "base_uri": "https://localhost:8080/"
        },
        "id": "3w7y3oSeb_pA",
        "outputId": "4acdc4a3-6e3b-402b-ee9c-a0db749c56b8"
      },
      "execution_count": null,
      "outputs": [
        {
          "output_type": "execute_result",
          "data": {
            "text/plain": [
              "((1257, 64), (540, 64), (1257,), (540,))"
            ]
          },
          "metadata": {},
          "execution_count": 30
        }
      ]
    },
    {
      "cell_type": "markdown",
      "source": [
        "Random Forest Model"
      ],
      "metadata": {
        "id": "qjS692LocrCM"
      }
    },
    {
      "cell_type": "code",
      "source": [
        "from sklearn.ensemble import RandomForestClassifier"
      ],
      "metadata": {
        "id": "L3-lV26Kcw65"
      },
      "execution_count": null,
      "outputs": []
    },
    {
      "cell_type": "code",
      "source": [
        "rf = RandomForestClassifier()"
      ],
      "metadata": {
        "id": "-Fvb00dtdF7j"
      },
      "execution_count": null,
      "outputs": []
    },
    {
      "cell_type": "code",
      "source": [
        "rf.fit(x_train, y_train)"
      ],
      "metadata": {
        "colab": {
          "base_uri": "https://localhost:8080/",
          "height": 74
        },
        "id": "2i1949GFdRUL",
        "outputId": "ef1dafa1-dd0f-4f33-9204-50f49220587c"
      },
      "execution_count": null,
      "outputs": [
        {
          "output_type": "execute_result",
          "data": {
            "text/plain": [
              "RandomForestClassifier()"
            ],
            "text/html": [
              "<style>#sk-container-id-1 {color: black;background-color: white;}#sk-container-id-1 pre{padding: 0;}#sk-container-id-1 div.sk-toggleable {background-color: white;}#sk-container-id-1 label.sk-toggleable__label {cursor: pointer;display: block;width: 100%;margin-bottom: 0;padding: 0.3em;box-sizing: border-box;text-align: center;}#sk-container-id-1 label.sk-toggleable__label-arrow:before {content: \"▸\";float: left;margin-right: 0.25em;color: #696969;}#sk-container-id-1 label.sk-toggleable__label-arrow:hover:before {color: black;}#sk-container-id-1 div.sk-estimator:hover label.sk-toggleable__label-arrow:before {color: black;}#sk-container-id-1 div.sk-toggleable__content {max-height: 0;max-width: 0;overflow: hidden;text-align: left;background-color: #f0f8ff;}#sk-container-id-1 div.sk-toggleable__content pre {margin: 0.2em;color: black;border-radius: 0.25em;background-color: #f0f8ff;}#sk-container-id-1 input.sk-toggleable__control:checked~div.sk-toggleable__content {max-height: 200px;max-width: 100%;overflow: auto;}#sk-container-id-1 input.sk-toggleable__control:checked~label.sk-toggleable__label-arrow:before {content: \"▾\";}#sk-container-id-1 div.sk-estimator input.sk-toggleable__control:checked~label.sk-toggleable__label {background-color: #d4ebff;}#sk-container-id-1 div.sk-label input.sk-toggleable__control:checked~label.sk-toggleable__label {background-color: #d4ebff;}#sk-container-id-1 input.sk-hidden--visually {border: 0;clip: rect(1px 1px 1px 1px);clip: rect(1px, 1px, 1px, 1px);height: 1px;margin: -1px;overflow: hidden;padding: 0;position: absolute;width: 1px;}#sk-container-id-1 div.sk-estimator {font-family: monospace;background-color: #f0f8ff;border: 1px dotted black;border-radius: 0.25em;box-sizing: border-box;margin-bottom: 0.5em;}#sk-container-id-1 div.sk-estimator:hover {background-color: #d4ebff;}#sk-container-id-1 div.sk-parallel-item::after {content: \"\";width: 100%;border-bottom: 1px solid gray;flex-grow: 1;}#sk-container-id-1 div.sk-label:hover label.sk-toggleable__label {background-color: #d4ebff;}#sk-container-id-1 div.sk-serial::before {content: \"\";position: absolute;border-left: 1px solid gray;box-sizing: border-box;top: 0;bottom: 0;left: 50%;z-index: 0;}#sk-container-id-1 div.sk-serial {display: flex;flex-direction: column;align-items: center;background-color: white;padding-right: 0.2em;padding-left: 0.2em;position: relative;}#sk-container-id-1 div.sk-item {position: relative;z-index: 1;}#sk-container-id-1 div.sk-parallel {display: flex;align-items: stretch;justify-content: center;background-color: white;position: relative;}#sk-container-id-1 div.sk-item::before, #sk-container-id-1 div.sk-parallel-item::before {content: \"\";position: absolute;border-left: 1px solid gray;box-sizing: border-box;top: 0;bottom: 0;left: 50%;z-index: -1;}#sk-container-id-1 div.sk-parallel-item {display: flex;flex-direction: column;z-index: 1;position: relative;background-color: white;}#sk-container-id-1 div.sk-parallel-item:first-child::after {align-self: flex-end;width: 50%;}#sk-container-id-1 div.sk-parallel-item:last-child::after {align-self: flex-start;width: 50%;}#sk-container-id-1 div.sk-parallel-item:only-child::after {width: 0;}#sk-container-id-1 div.sk-dashed-wrapped {border: 1px dashed gray;margin: 0 0.4em 0.5em 0.4em;box-sizing: border-box;padding-bottom: 0.4em;background-color: white;}#sk-container-id-1 div.sk-label label {font-family: monospace;font-weight: bold;display: inline-block;line-height: 1.2em;}#sk-container-id-1 div.sk-label-container {text-align: center;}#sk-container-id-1 div.sk-container {/* jupyter's `normalize.less` sets `[hidden] { display: none; }` but bootstrap.min.css set `[hidden] { display: none !important; }` so we also need the `!important` here to be able to override the default hidden behavior on the sphinx rendered scikit-learn.org. See: https://github.com/scikit-learn/scikit-learn/issues/21755 */display: inline-block !important;position: relative;}#sk-container-id-1 div.sk-text-repr-fallback {display: none;}</style><div id=\"sk-container-id-1\" class=\"sk-top-container\"><div class=\"sk-text-repr-fallback\"><pre>RandomForestClassifier()</pre><b>In a Jupyter environment, please rerun this cell to show the HTML representation or trust the notebook. <br />On GitHub, the HTML representation is unable to render, please try loading this page with nbviewer.org.</b></div><div class=\"sk-container\" hidden><div class=\"sk-item\"><div class=\"sk-estimator sk-toggleable\"><input class=\"sk-toggleable__control sk-hidden--visually\" id=\"sk-estimator-id-1\" type=\"checkbox\" checked><label for=\"sk-estimator-id-1\" class=\"sk-toggleable__label sk-toggleable__label-arrow\">RandomForestClassifier</label><div class=\"sk-toggleable__content\"><pre>RandomForestClassifier()</pre></div></div></div></div></div>"
            ]
          },
          "metadata": {},
          "execution_count": 35
        }
      ]
    },
    {
      "cell_type": "markdown",
      "source": [
        " Predict Test data"
      ],
      "metadata": {
        "id": "PwNKH27afw1e"
      }
    },
    {
      "cell_type": "code",
      "source": [
        "y_pred = rf.predict(x_test)"
      ],
      "metadata": {
        "id": "l87M0FUmgKRq"
      },
      "execution_count": null,
      "outputs": []
    },
    {
      "cell_type": "code",
      "source": [
        "y_pred"
      ],
      "metadata": {
        "colab": {
          "base_uri": "https://localhost:8080/"
        },
        "id": "WBh5xDbrgN4H",
        "outputId": "e3809b08-09d6-4c9e-fa62-a85ff00a6d80"
      },
      "execution_count": null,
      "outputs": [
        {
          "output_type": "execute_result",
          "data": {
            "text/plain": [
              "array([9, 0, 5, 2, 7, 7, 1, 8, 7, 3, 1, 3, 5, 3, 8, 8, 6, 1, 8, 7, 0, 3,\n",
              "       7, 9, 2, 5, 4, 3, 0, 4, 5, 7, 2, 5, 1, 2, 3, 3, 1, 4, 3, 7, 8, 3,\n",
              "       5, 0, 1, 7, 0, 7, 1, 1, 8, 6, 6, 6, 2, 5, 1, 1, 3, 2, 5, 0, 2, 9,\n",
              "       1, 6, 2, 1, 6, 1, 8, 4, 0, 5, 3, 9, 9, 5, 5, 1, 0, 6, 0, 2, 5, 3,\n",
              "       4, 7, 5, 3, 9, 0, 7, 5, 5, 6, 2, 8, 4, 0, 3, 9, 8, 0, 9, 3, 9, 4,\n",
              "       9, 7, 4, 8, 9, 3, 0, 1, 3, 7, 6, 1, 1, 4, 4, 8, 1, 1, 3, 6, 1, 6,\n",
              "       1, 0, 6, 2, 8, 3, 6, 0, 2, 6, 3, 8, 7, 9, 7, 0, 7, 1, 7, 2, 1, 9,\n",
              "       1, 3, 7, 0, 7, 6, 2, 1, 7, 1, 3, 5, 9, 7, 6, 3, 3, 6, 6, 1, 2, 0,\n",
              "       3, 8, 7, 2, 7, 5, 0, 1, 3, 7, 1, 3, 7, 4, 8, 5, 3, 7, 7, 0, 9, 4,\n",
              "       8, 4, 5, 0, 2, 7, 5, 0, 8, 3, 0, 3, 6, 9, 4, 7, 4, 3, 7, 7, 9, 5,\n",
              "       4, 4, 6, 3, 6, 0, 5, 0, 2, 1, 2, 4, 2, 0, 1, 6, 0, 5, 7, 9, 6, 6,\n",
              "       0, 5, 6, 8, 5, 6, 1, 2, 0, 8, 1, 1, 4, 5, 5, 6, 3, 2, 3, 0, 3, 1,\n",
              "       5, 7, 4, 1, 2, 5, 3, 3, 9, 4, 4, 9, 9, 8, 6, 1, 5, 3, 0, 8, 6, 8,\n",
              "       5, 6, 9, 6, 1, 0, 6, 4, 4, 7, 9, 4, 7, 0, 2, 5, 7, 8, 1, 5, 3, 1,\n",
              "       0, 9, 5, 6, 2, 4, 0, 9, 4, 5, 2, 5, 6, 5, 8, 5, 8, 2, 6, 7, 7, 8,\n",
              "       5, 0, 8, 8, 8, 7, 8, 3, 2, 6, 3, 6, 2, 9, 9, 0, 9, 4, 8, 5, 3, 0,\n",
              "       0, 3, 0, 3, 1, 0, 6, 1, 4, 9, 1, 9, 5, 6, 7, 0, 1, 9, 2, 3, 4, 0,\n",
              "       4, 2, 1, 9, 4, 0, 8, 1, 5, 9, 2, 0, 2, 5, 1, 1, 5, 7, 5, 2, 9, 9,\n",
              "       7, 7, 7, 3, 5, 0, 1, 9, 5, 3, 0, 9, 1, 6, 2, 3, 9, 1, 4, 5, 4, 2,\n",
              "       8, 5, 7, 4, 4, 2, 1, 4, 8, 3, 2, 1, 8, 9, 6, 7, 3, 3, 7, 3, 2, 5,\n",
              "       2, 4, 4, 3, 4, 1, 1, 9, 8, 8, 8, 5, 9, 0, 1, 5, 9, 1, 1, 7, 8, 3,\n",
              "       2, 3, 9, 6, 2, 1, 2, 4, 6, 3, 9, 8, 6, 2, 5, 0, 3, 2, 9, 4, 6, 3,\n",
              "       9, 5, 7, 9, 2, 2, 7, 2, 4, 4, 8, 9, 3, 0, 4, 9, 1, 0, 7, 1, 7, 0,\n",
              "       1, 2, 6, 2, 0, 1, 3, 0, 1, 5, 5, 9, 3, 0, 6, 6, 8, 9, 5, 9, 2, 5,\n",
              "       3, 2, 5, 6, 5, 2, 8, 6, 0, 8, 8, 3])"
            ]
          },
          "metadata": {},
          "execution_count": 37
        }
      ]
    },
    {
      "cell_type": "markdown",
      "source": [
        "Model Accuracy"
      ],
      "metadata": {
        "id": "oIGBjpE1gUzt"
      }
    },
    {
      "cell_type": "code",
      "source": [
        "from sklearn.metrics import confusion_matrix, classification_report"
      ],
      "metadata": {
        "id": "PWeEob2Egagm"
      },
      "execution_count": null,
      "outputs": []
    },
    {
      "cell_type": "code",
      "source": [
        "confusion_matrix(y_test, y_pred)"
      ],
      "metadata": {
        "colab": {
          "base_uri": "https://localhost:8080/"
        },
        "id": "WWA0_UDIhWI4",
        "outputId": "5edec180-a2d2-4f90-99ed-ad2d68a94d60"
      },
      "execution_count": null,
      "outputs": [
        {
          "output_type": "execute_result",
          "data": {
            "text/plain": [
              "array([[54,  0,  0,  0,  0,  0,  0,  0,  0,  0],\n",
              "       [ 0, 62,  1,  0,  0,  0,  0,  0,  0,  0],\n",
              "       [ 2,  0, 52,  0,  0,  0,  0,  0,  0,  0],\n",
              "       [ 0,  0,  0, 61,  0,  1,  0,  0,  0,  0],\n",
              "       [ 0,  0,  0,  0, 45,  0,  0,  0,  0,  0],\n",
              "       [ 0,  0,  0,  0,  0, 58,  0,  0,  0,  0],\n",
              "       [ 0,  0,  0,  0,  0,  1, 50,  0,  0,  0],\n",
              "       [ 0,  0,  0,  0,  0,  0,  0, 52,  0,  0],\n",
              "       [ 0,  2,  0,  1,  0,  0,  0,  0, 45,  0],\n",
              "       [ 0,  0,  0,  1,  0,  0,  0,  0,  0, 52]])"
            ]
          },
          "metadata": {},
          "execution_count": 43
        }
      ]
    },
    {
      "cell_type": "code",
      "source": [
        "print(classification_report(y_test, y_pred))"
      ],
      "metadata": {
        "colab": {
          "base_uri": "https://localhost:8080/"
        },
        "id": "VB4xDpLkiASb",
        "outputId": "9892065c-625a-4295-92f2-55e46dff2a6f"
      },
      "execution_count": null,
      "outputs": [
        {
          "output_type": "stream",
          "name": "stdout",
          "text": [
            "              precision    recall  f1-score   support\n",
            "\n",
            "           0       0.96      1.00      0.98        54\n",
            "           1       0.97      0.98      0.98        63\n",
            "           2       0.98      0.96      0.97        54\n",
            "           3       0.97      0.98      0.98        62\n",
            "           4       1.00      1.00      1.00        45\n",
            "           5       0.97      1.00      0.98        58\n",
            "           6       1.00      0.98      0.99        51\n",
            "           7       1.00      1.00      1.00        52\n",
            "           8       1.00      0.94      0.97        48\n",
            "           9       1.00      0.98      0.99        53\n",
            "\n",
            "    accuracy                           0.98       540\n",
            "   macro avg       0.98      0.98      0.98       540\n",
            "weighted avg       0.98      0.98      0.98       540\n",
            "\n"
          ]
        }
      ]
    }
  ]
}